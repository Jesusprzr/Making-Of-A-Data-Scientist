{
 "cells": [
  {
   "cell_type": "markdown",
   "metadata": {},
   "source": [
    "# Chapter 2 - Distributions"
   ]
  },
  {
   "cell_type": "markdown",
   "metadata": {},
   "source": [
    "One of the best ways to describe a variable, is knowing it's distribution.\n",
    "The most common way to do this is by a histogram, which is a graph that shows the frequency of each value.\n",
    "    - Frequency on a histogram refers to how much (frequently) does every value appears on the plot. \n",
    "    \n",
    "In python --- Efficience ---> Dictionaries. Given a sequence of values *t*:\n",
    "\n",
    "                    hist = {}\n",
    "                    for x in t:\n",
    "                    hist[x] = hist.get(x, 0) + 1\n",
    "                    \n",
    "That translates into a dictionary that maps from values to frequencies. Alternative:\n",
    "\n",
    "                    from collections import Counter\n",
    "                    counter = Counter(t)\n",
    "\n",
    "Counter object -> subclass of dictionary.\n",
    "\n",
    "Another alternative is using *value_counts()*."
   ]
  },
  {
   "cell_type": "code",
   "execution_count": 33,
   "metadata": {},
   "outputs": [],
   "source": [
    "t = [1, 2, 2, 3, 5]"
   ]
  },
  {
   "cell_type": "code",
   "execution_count": 34,
   "metadata": {},
   "outputs": [
    {
     "data": {
      "text/plain": [
       "Counter({1: 1, 2: 2, 3: 1, 5: 1})"
      ]
     },
     "execution_count": 34,
     "metadata": {},
     "output_type": "execute_result"
    }
   ],
   "source": [
    "from collections import Counter\n",
    "counter = Counter(t)\n",
    "counter"
   ]
  },
  {
   "cell_type": "code",
   "execution_count": 2,
   "metadata": {},
   "outputs": [],
   "source": [
    "from __future__ import print_function, division\n",
    "\n",
    "%matplotlib inline\n",
    "\n",
    "import numpy as np\n",
    "\n",
    "import nsfg\n",
    "import first"
   ]
  },
  {
   "cell_type": "markdown",
   "metadata": {},
   "source": [
    "# Representing Histograms\n",
    "\n",
    "The Hist constructor (from *thinkstats*) can use:\n",
    "- Sequences\n",
    "- Dictionaries\n",
    "- Pandas Series\n",
    "- Other hists\n",
    "\n",
    "Creating hist objects is as easy as:"
   ]
  },
  {
   "cell_type": "code",
   "execution_count": 3,
   "metadata": {},
   "outputs": [
    {
     "data": {
      "text/plain": [
       "Hist({1: 1, 2: 2, 3: 1, 4: 7, 5: 1})"
      ]
     },
     "execution_count": 3,
     "metadata": {},
     "output_type": "execute_result"
    }
   ],
   "source": [
    "import thinkstats2\n",
    "hist = thinkstats2.Hist([1, 2, 2, 3, 4, 4, 4, 4, 4, 4, 4, 5])\n",
    "hist"
   ]
  },
  {
   "cell_type": "code",
   "execution_count": 36,
   "metadata": {},
   "outputs": [
    {
     "data": {
      "text/plain": [
       "7"
      ]
     },
     "execution_count": 36,
     "metadata": {},
     "output_type": "execute_result"
    }
   ],
   "source": [
    "#Hist objects -> Freq -> frequency(value)\n",
    "hist.Freq(4)"
   ]
  },
  {
   "cell_type": "code",
   "execution_count": 37,
   "metadata": {},
   "outputs": [
    {
     "data": {
      "text/plain": [
       "7"
      ]
     },
     "execution_count": 37,
     "metadata": {},
     "output_type": "execute_result"
    }
   ],
   "source": [
    "#Freq = []\n",
    "hist[4]"
   ]
  },
  {
   "cell_type": "code",
   "execution_count": 38,
   "metadata": {},
   "outputs": [
    {
     "data": {
      "text/plain": [
       "0"
      ]
     },
     "execution_count": 38,
     "metadata": {},
     "output_type": "execute_result"
    }
   ],
   "source": [
    "#If not value in hist:\n",
    "    #value frequency = 0\n",
    "hist.Freq(6)"
   ]
  },
  {
   "cell_type": "code",
   "execution_count": 39,
   "metadata": {},
   "outputs": [
    {
     "data": {
      "text/plain": [
       "dict_keys([1, 2, 3, 4, 5])"
      ]
     },
     "execution_count": 39,
     "metadata": {},
     "output_type": "execute_result"
    }
   ],
   "source": [
    "#Values -> ([Dict_keys])\n",
    "hist.Values()"
   ]
  },
  {
   "cell_type": "code",
   "execution_count": 40,
   "metadata": {},
   "outputs": [
    {
     "name": "stdout",
     "output_type": "stream",
     "text": [
      "1 1\n",
      "2 2\n",
      "3 1\n",
      "4 7\n",
      "5 1\n"
     ]
    }
   ],
   "source": [
    "#To values.sort.loop --- use ---> sorted\n",
    "for val in sorted(hist.Values()):\n",
    "    print(val, hist.Freq(val))"
   ]
  },
  {
   "cell_type": "code",
   "execution_count": 41,
   "metadata": {},
   "outputs": [
    {
     "name": "stdout",
     "output_type": "stream",
     "text": [
      "1 1\n",
      "2 2\n",
      "3 1\n",
      "4 7\n",
      "5 1\n"
     ]
    }
   ],
   "source": [
    "#Or Items to iterate through value-frequency pairs\n",
    "for val, freq in hist.Items():\n",
    "    print(val, freq)    "
   ]
  },
  {
   "cell_type": "markdown",
   "metadata": {},
   "source": [
    "# Plotting Hists\n",
    "To plot hist with thinkplot <-(thinkstats2.module), try this:"
   ]
  },
  {
   "cell_type": "code",
   "execution_count": 4,
   "metadata": {},
   "outputs": [
    {
     "data": {
      "image/png": "[encoded data removed]",
      "text/plain": [
       "<Figure size 432x288 with 1 Axes>"
      ]
     },
     "metadata": {
      "needs_background": "light"
     },
     "output_type": "display_data"
    },
    {
     "data": {
      "text/plain": [
       "<Figure size 576x432 with 0 Axes>"
      ]
     },
     "metadata": {},
     "output_type": "display_data"
    }
   ],
   "source": [
    "import thinkplot\n",
    "thinkplot.Hist(hist)\n",
    "thinkplot.Show(xlabel='value', ylabel='frequency')"
   ]
  },
  {
   "cell_type": "markdown",
   "metadata": {},
   "source": [
    "[thinkplot Documentation](http://greenteapress.com/thinkstats2/thinkplot.html)"
   ]
  },
  {
   "cell_type": "markdown",
   "metadata": {},
   "source": [
    "# NSFG variables\n",
    "When you are just starting to work with a dataset, I suggest you to **explore the variables you are planning to use one at a time.** A good way to start is by looking at hists."
   ]
  },
  {
   "cell_type": "code",
   "execution_count": 43,
   "metadata": {},
   "outputs": [],
   "source": [
    "#Let's start by:\n",
    "import nsfg\n",
    "preg = nsfg.ReadFemPreg()        #<- Read the data\n",
    "live = preg[preg.outcome==1]    #<- Select records for live births"
   ]
  },
  {
   "cell_type": "code",
   "execution_count": 44,
   "metadata": {},
   "outputs": [
    {
     "data": {
      "image/png": "[encoded data removed]",
      "text/plain": [
       "<Figure size 432x288 with 1 Axes>"
      ]
     },
     "metadata": {
      "needs_background": "light"
     },
     "output_type": "display_data"
    },
    {
     "data": {
      "text/plain": [
       "<Figure size 576x432 with 0 Axes>"
      ]
     },
     "metadata": {},
     "output_type": "display_data"
    }
   ],
   "source": [
    "#Next, hist of birthwgt_lb for live births\n",
    "#My plot\n",
    "hist = thinkstats2.Hist(live.birthwgt_lb, label = 'Hist of newborns weight in lbs')\n",
    "thinkplot.Hist(hist)\n",
    "thinkplot.Show(xlabel = 'pounds', ylabel = 'frequency')"
   ]
  },
  {
   "cell_type": "code",
   "execution_count": 6,
   "metadata": {},
   "outputs": [
    {
     "data": {
      "image/png": "[encoded data removed]",
      "text/plain": [
       "<Figure size 432x288 with 1 Axes>"
      ]
     },
     "metadata": {
      "needs_background": "light"
     },
     "output_type": "display_data"
    }
   ],
   "source": [
    "#Book creator's plot:\n",
    "preg = nsfg.ReadFemPreg()\n",
    "live = preg[preg.outcome == 1]\n",
    "hist = thinkstats2.Hist(live.birthwgt_lb, label='birthwgt_lb')\n",
    "thinkplot.Hist(hist)\n",
    "thinkplot.Config(xlabel='Birth weight (pounds)', ylabel='Count')"
   ]
  },
  {
   "cell_type": "markdown",
   "metadata": {},
   "source": [
    "**Bell-shape/gausian (normal) distribution, of mode 7. a little bit gravitated towards the left (asymmetric) so not exactly a true normal distribution**"
   ]
  },
  {
   "cell_type": "code",
   "execution_count": 45,
   "metadata": {},
   "outputs": [],
   "source": [
    "#When Hist(pandas) -> NaN values = dropped\n",
    "#label = str in legend"
   ]
  },
  {
   "cell_type": "code",
   "execution_count": 46,
   "metadata": {},
   "outputs": [
    {
     "data": {
      "image/png": "[encoded data removed]",
      "text/plain": [
       "<Figure size 432x288 with 1 Axes>"
      ]
     },
     "metadata": {
      "needs_background": "light"
     },
     "output_type": "display_data"
    },
    {
     "data": {
      "text/plain": [
       "<Figure size 576x432 with 0 Axes>"
      ]
     },
     "metadata": {},
     "output_type": "display_data"
    }
   ],
   "source": [
    "hist = thinkstats2.Hist(live.birthwgt_oz, label = 'Hist of newborns weight in oz')\n",
    "thinkplot.Hist(hist)\n",
    "thinkplot.Show(xlabel = 'ounces', ylabel = 'frequency')"
   ]
  },
  {
   "cell_type": "markdown",
   "metadata": {},
   "source": [
    "**In theory --- we expect --- uniform distribution = All values == frequency. But here 0, 1 and 15 present the opposite of uniformity.  probably because respondents round off birth weights that are close to an\n",
    "integer value.**"
   ]
  },
  {
   "cell_type": "code",
   "execution_count": 60,
   "metadata": {},
   "outputs": [
    {
     "data": {
      "image/png": "[encoded data removed]",
      "text/plain": [
       "<Figure size 432x288 with 1 Axes>"
      ]
     },
     "metadata": {
      "needs_background": "light"
     },
     "output_type": "display_data"
    },
    {
     "data": {
      "text/plain": [
       "<Figure size 576x432 with 0 Axes>"
      ]
     },
     "metadata": {},
     "output_type": "display_data"
    }
   ],
   "source": [
    "#My code:\n",
    "hist = thinkstats2.Hist(live.agepreg, label = 'Hist of mothers age at end of pregnancy')\n",
    "thinkplot.Hist(hist)\n",
    "thinkplot.Show(xlabel = 'years', ylabel = 'frequency')"
   ]
  },
  {
   "cell_type": "code",
   "execution_count": 8,
   "metadata": {},
   "outputs": [
    {
     "data": {
      "image/png": "[encoded data removed]",
      "text/plain": [
       "<Figure size 432x288 with 1 Axes>"
      ]
     },
     "metadata": {
      "needs_background": "light"
     },
     "output_type": "display_data"
    }
   ],
   "source": [
    "#Creators code:\n",
    "ages = np.floor(live.agepreg)\n",
    "hist = thinkstats2.Hist(ages, label='agepreg')\n",
    "thinkplot.Hist(hist)\n",
    "thinkplot.Config(xlabel='years', ylabel='Count')"
   ]
  },
  {
   "cell_type": "code",
   "execution_count": 61,
   "metadata": {},
   "outputs": [
    {
     "data": {
      "image/png": "[encoded data removed]",
      "text/plain": [
       "<Figure size 432x288 with 1 Axes>"
      ]
     },
     "metadata": {
      "needs_background": "light"
     },
     "output_type": "display_data"
    }
   ],
   "source": [
    "#Book writter's code:\n",
    "ages = np.floor(live.agepreg)\n",
    "hist = thinkstats2.Hist(ages, label='agepreg')\n",
    "thinkplot.Hist(hist)\n",
    "thinkplot.Config(xlabel='years', ylabel='Count')"
   ]
  },
  {
   "cell_type": "markdown",
   "metadata": {},
   "source": [
    "**Another pseudo-bell shaped distribution, this time more gravitated to the right. Mode = 21, most mothers in their 20's less in their 30' and a lot less in other ages.**"
   ]
  },
  {
   "cell_type": "code",
   "execution_count": 48,
   "metadata": {},
   "outputs": [
    {
     "data": {
      "image/png": "[encoded data removed]",
      "text/plain": [
       "<Figure size 432x288 with 1 Axes>"
      ]
     },
     "metadata": {
      "needs_background": "light"
     },
     "output_type": "display_data"
    },
    {
     "data": {
      "text/plain": [
       "<Figure size 576x432 with 0 Axes>"
      ]
     },
     "metadata": {},
     "output_type": "display_data"
    }
   ],
   "source": [
    "hist = thinkstats2.Hist(live.prglngth, label = 'Hist of pregnancy lenght in weeks')\n",
    "thinkplot.Hist(hist)\n",
    "thinkplot.Show(xlabel = 'weeks', ylabel = 'frequency')"
   ]
  },
  {
   "cell_type": "markdown",
   "metadata": {},
   "source": [
    "**By far the most common value is 39 weeks. The left tail is longer than the right; early babies are common, but pregnancies seldom go past 43 weeks, and doctors often intervene if they do.**"
   ]
  },
  {
   "cell_type": "markdown",
   "metadata": {},
   "source": [
    "# Outliers\n",
    "Histograms are good for identifying the shape and frequency of the values. But outliers are hardly visible. \n",
    "**Outliers** are extreme values that might be errors in measurement and recording, or might be accurate reports of rare events. "
   ]
  },
  {
   "cell_type": "code",
   "execution_count": 49,
   "metadata": {},
   "outputs": [
    {
     "name": "stdout",
     "output_type": "stream",
     "text": [
      "0 1\n",
      "4 1\n",
      "9 1\n",
      "13 1\n",
      "17 2\n",
      "18 1\n",
      "19 1\n",
      "20 1\n",
      "21 2\n",
      "22 7\n"
     ]
    }
   ],
   "source": [
    "#Hist.Largest/Smallest takes an integer *n* and returns the *n* largest or smallest values form the hist:\n",
    "for weeks, freq in hist.Smallest(10):\n",
    "    print(weeks, freq)"
   ]
  },
  {
   "cell_type": "code",
   "execution_count": 50,
   "metadata": {},
   "outputs": [
    {
     "name": "stdout",
     "output_type": "stream",
     "text": [
      "50 2\n",
      "48 7\n",
      "47 1\n",
      "46 1\n",
      "45 10\n",
      "44 46\n",
      "43 148\n",
      "42 328\n",
      "41 587\n",
      "40 1116\n"
     ]
    }
   ],
   "source": [
    "for weeks, freq in hist.Largest(10):\n",
    "    print(weeks, freq)"
   ]
  },
  {
   "cell_type": "markdown",
   "metadata": {},
   "source": [
    "These are the values of pregnancy lenght. Let's apply logic:\n",
    "- Values below 10 weeks are certainly errors.\n",
    "- Values over 30 weeks are probably legit.\n",
    "- Between 10-30 is hard to be sure, some may be errors but some represent premature babies.\n",
    "- Most doctors recommend inducter labor if pregnancy > 42 weeks, This is why some of the largest values are surprising. 50 weeks seems medically unlikely.\n",
    "\n",
    "What we've just done is a proof of the fact that the best way of handling outliers is **domain knowledge.** Not only your knowledge of the field, but even to know where the data come from, and of course what they mean.\n",
    "\n",
    "The influence of outliers also may depend on what analysis you are planning to perform. In our case, the motivating question is whether first babies tend to be earlier or late. If we ask this we should be interested in full-term pregnancies, so for this analysis we will focus on pregnancies longer than 27 weeks.\n",
    "\n",
    "# First Babies"
   ]
  },
  {
   "cell_type": "code",
   "execution_count": 10,
   "metadata": {},
   "outputs": [
    {
     "data": {
      "text/plain": [
       "<Figure size 432x288 with 0 Axes>"
      ]
     },
     "metadata": {},
     "output_type": "display_data"
    },
    {
     "data": {
      "image/png": "[encoded data removed]",
      "text/plain": [
       "<Figure size 432x720 with 1 Axes>"
      ]
     },
     "metadata": {
      "needs_background": "light"
     },
     "output_type": "display_data"
    },
    {
     "data": {
      "text/plain": [
       "<Figure size 576x432 with 0 Axes>"
      ]
     },
     "metadata": {},
     "output_type": "display_data"
    }
   ],
   "source": [
    "#Let's divide the DataFrame to compare the distribution of pregnancy lenght between first babies and others.\n",
    "first = live[live.birthord == 1]\n",
    "others = live[live.birthord != 1]\n",
    "\n",
    "first_hist = thinkstats2.Hist(first.prglngth[first.prglngth>=27])\n",
    "others_hist = thinkstats2.Hist(others.prglngth[others.prglngth>=27])\n",
    "\n",
    "\n",
    "#Now let's plot both histograms on the same axis:\n",
    "#My terrible plot, (I was trying to normalize the plot size but couldn't xD): \n",
    "width = 0.45\n",
    "thinkplot.PrePlot(2)\n",
    "thinkplot.figure(figsize=(6, 10))\n",
    "thinkplot.Hist(first_hist, align='right', width=width)\n",
    "thinkplot.Hist(others_hist, align='left', width=width)\n",
    "thinkplot.Show(xlabel='weeks', ylabel='frequency')"
   ]
  },
  {
   "cell_type": "code",
   "execution_count": 12,
   "metadata": {},
   "outputs": [
    {
     "data": {
      "image/png": "[encoded data removed]",
      "text/plain": [
       "<Figure size 432x288 with 1 Axes>"
      ]
     },
     "metadata": {
      "needs_background": "light"
     },
     "output_type": "display_data"
    }
   ],
   "source": [
    "#Author's plot:\n",
    "width = 0.45\n",
    "thinkplot.PrePlot(2)\n",
    "thinkplot.Hist(first_hist, align='right', width=width)\n",
    "thinkplot.Hist(others_hist, align='left', width=width)\n",
    "thinkplot.Config(xlabel='weeks', ylabel='Count', xlim=[27, 46])"
   ]
  },
  {
   "cell_type": "markdown",
   "metadata": {},
   "source": [
    "# Summarizing Distributions\n",
    "Hist = description of the distribution of a sample --> we could reconstruct the values in a saple (although not their order).\n",
    "\n",
    "If details of distribution = important -> hist. But often, we want to summarize the distribution with a few descriptive stats. Some might be:\n",
    "- **central tendency:** Do the values tend to **cluster** around a particular point?\n",
    "- **modes:** Is there more than one cluster?\n",
    "- **spread:** How much variability is there in the values?\n",
    "- **tails:** How quickly do probabilites drop off as we move away from the modes?\n",
    "- **outliers:** Are there extreme values far from the modes?\n",
    "\n",
    "The statistics that are designe to answer these questions are called **summary statistics.** By far the most common is the mean, but not because it works on everything, because it certaintly doesn't. \n",
    "\n",
    "**mean** = sum of values/nº of values\n",
    "\n",
    "Distinction between **mean** and **average:**\n",
    "* The mean of a sample is the summary statistic computed with the previous formula\n",
    "* An average is one of several (so is a famaly of stats) summary statistics used to describe a central tendency. You choose the appropiate one for the sample.\n",
    "\n",
    "If I have 6 apples the mean may be a good choice, because the size and weight is pretty much the same. BUT if I have 6 pumpkins,3 smalls, two medians, and one giant. The mean may nor work at all.\n",
    "\n",
    "# Variance\n",
    "If the mean doesn't summarizes the pumpkins weights well, we can do better with two numbers: mean and **variance.**\n",
    "\n",
    "The variance is another summary stat intended to describe the **spread** of a distribution.\n",
    "* Variance = mean.sqrtdeviation"
   ]
  },
  {
   "cell_type": "code",
   "execution_count": 52,
   "metadata": {},
   "outputs": [],
   "source": [
    "mean = live.prglngth.mean()\n",
    "var = live.prglngth.var()\n",
    "std = live.prglngth.std() "
   ]
  },
  {
   "cell_type": "code",
   "execution_count": 53,
   "metadata": {},
   "outputs": [
    {
     "data": {
      "text/plain": [
       "38.56055968517709"
      ]
     },
     "execution_count": 53,
     "metadata": {},
     "output_type": "execute_result"
    }
   ],
   "source": [
    "mean"
   ]
  },
  {
   "cell_type": "code",
   "execution_count": 54,
   "metadata": {},
   "outputs": [
    {
     "data": {
      "text/plain": [
       "7.302662067826817"
      ]
     },
     "execution_count": 54,
     "metadata": {},
     "output_type": "execute_result"
    }
   ],
   "source": [
    "var"
   ]
  },
  {
   "cell_type": "code",
   "execution_count": 55,
   "metadata": {},
   "outputs": [
    {
     "data": {
      "text/plain": [
       "2.702343810070587"
      ]
     },
     "execution_count": 55,
     "metadata": {},
     "output_type": "execute_result"
    }
   ],
   "source": [
    "std"
   ]
  },
  {
   "cell_type": "markdown",
   "metadata": {},
   "source": [
    "For all live births, the mean pregnancy length is 38.6 weeks, the standard deviation is 2.7 weeks, which means we should expect deviations of 2-3 weeks to be common. Variance of pregnancy length is 7.3, which is hard to interpret, especially since the units are weeks2, or “square weeks.” Variance is useful in some calculations, but it is not a good summary statistic. \n",
    "\n",
    "# Effect Size\n",
    "Effect siez is literally what it's name says. To describe the difference between two groups, one obvious choice is the difference in the means. Mean pregnancy length for first babies is 38.601; for other babies it is 38.523. The difference is 0.078 weeks, which works out to 13 hours. As a fraction of the typical pregnancy length, this difference is about 0.2%.\n",
    "\n",
    "Another way to convey the size of the effect is to compare the difference between groups to the variability within groups. Cohen’s d is a statistic intended to do that; it is defined:\n",
    "\n",
    "    d = (x1 - x2)/s \n",
    "\n",
    "where x1 and x2 are the means of the groups and s is the “pooled standard deviation”."
   ]
  },
  {
   "cell_type": "code",
   "execution_count": 56,
   "metadata": {},
   "outputs": [],
   "source": [
    "#Here’s the Python code that computes Cohen’s d\n",
    "def CohenEffectSize(group1, group2):\n",
    "    diff = group1.mean() - group2.mean()\n",
    "    \n",
    "    var1 = group1.var()\n",
    "    var2 = group2.var()\n",
    "    n1, n2 = len(group1), len(group2)\n",
    "    import math\n",
    "    pooled_var = (n1 * var1 + n2 * var2) / (n1 + n2)\n",
    "    d = diff / math.sqrt(pooled_var)\n",
    "    return d"
   ]
  },
  {
   "cell_type": "code",
   "execution_count": 57,
   "metadata": {},
   "outputs": [
    {
     "data": {
      "text/plain": [
       "0.028879044654449834"
      ]
     },
     "execution_count": 57,
     "metadata": {},
     "output_type": "execute_result"
    }
   ],
   "source": [
    "CohenEffectSize(first.prglngth, others.prglngth)"
   ]
  },
  {
   "cell_type": "markdown",
   "metadata": {},
   "source": [
    "In this example, the difference in means is 0.029 standard deviations, which is small. To put that in perspective, the difference in height between men and women is about 1.7 standard deviations.\n",
    "\n",
    "# Reporting Results\n",
    "Now, how should we report the results of the differences found (if it's relevant)?\n",
    "\n",
    "The answer depends on who is asking the question:\n",
    "* A scientist might be interested in any (real) effect, no matter how small.\n",
    "* A doctor might only care about effects that are clinically significant; that is, differences that affect treatment decisions. \n",
    "* A pregnant woman might be interested in results that are relevant to her, like the probability of delivering early or late. \n",
    "* It also depends on **your goals:**\n",
    "  - If you are trying to demonstrate the importance of an effect, you might choose summary statistics that emphasize differences.\n",
    "  - If you are trying to reassure a patient, you might choose statistics that put the differences in context. \n",
    "* **Everything being guided with professional ethics, objetivity and honesty. Always seek the truth.**"
   ]
  },
  {
   "cell_type": "code",
   "execution_count": null,
   "metadata": {},
   "outputs": [],
   "source": []
  }
 ],
 "metadata": {
  "kernelspec": {
   "display_name": "Python 3",
   "language": "python",
   "name": "python3"
  },
  "language_info": {
   "codemirror_mode": {
    "name": "ipython",
    "version": 3
   },
   "file_extension": ".py",
   "mimetype": "text/x-python",
   "name": "python",
   "nbconvert_exporter": "python",
   "pygments_lexer": "ipython3",
   "version": "3.7.3"
  }
 },
 "nbformat": 4,
 "nbformat_minor": 4
}
